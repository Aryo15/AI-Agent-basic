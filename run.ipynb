
!pip install -qU langgraph langchain langchain_openai chromadb beautifulsoup4

!pip install -qU fastapi uvicorn python-dotenv pydantic
